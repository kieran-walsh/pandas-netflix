{
 "cells": [
  {
   "cell_type": "markdown",
   "metadata": {},
   "source": [
    "### 67-364 Project 1: Netflix Data Analysis\n",
    "#### Group 14: Sasha Volodin (svolodin) and Kieran Walsh (kawalsh)"
   ]
  },
  {
   "cell_type": "code",
   "execution_count": 4,
   "metadata": {},
   "outputs": [],
   "source": [
    "#Importing needed modules\n",
    "import pandas as pd\n",
    "\n",
    "#Importing these just in case\n",
    "import math\n",
    "import matplotlib.pyplot as plt\n",
    "import numpy as np\n",
    "\n",
    "#CSV file with data\n",
    "netflix_titles = './netflix_titles.csv'"
   ]
  },
  {
   "cell_type": "markdown",
   "metadata": {},
   "source": [
    "#### Motivation/Problem Domain"
   ]
  },
  {
   "cell_type": "markdown",
   "metadata": {},
   "source": [
    "Talk about this section"
   ]
  },
  {
   "cell_type": "code",
   "execution_count": 19,
   "metadata": {},
   "outputs": [],
   "source": [
    "# Just get this stuff from the powerpoint"
   ]
  },
  {
   "cell_type": "markdown",
   "metadata": {},
   "source": [
    "#### Dataset"
   ]
  },
  {
   "cell_type": "markdown",
   "metadata": {},
   "source": [
    "Get stuff from the powerpoint and talk about cleaning"
   ]
  },
  {
   "cell_type": "code",
   "execution_count": 5,
   "metadata": {},
   "outputs": [
    {
     "data": {
      "text/html": [
       "<div>\n",
       "<style scoped>\n",
       "    .dataframe tbody tr th:only-of-type {\n",
       "        vertical-align: middle;\n",
       "    }\n",
       "\n",
       "    .dataframe tbody tr th {\n",
       "        vertical-align: top;\n",
       "    }\n",
       "\n",
       "    .dataframe thead th {\n",
       "        text-align: right;\n",
       "    }\n",
       "</style>\n",
       "<table border=\"1\" class=\"dataframe\">\n",
       "  <thead>\n",
       "    <tr style=\"text-align: right;\">\n",
       "      <th></th>\n",
       "      <th>show_id</th>\n",
       "      <th>type</th>\n",
       "      <th>title</th>\n",
       "      <th>director</th>\n",
       "      <th>cast</th>\n",
       "      <th>country</th>\n",
       "      <th>date_added</th>\n",
       "      <th>release_year</th>\n",
       "      <th>rating</th>\n",
       "      <th>duration</th>\n",
       "      <th>listed_in</th>\n",
       "      <th>description</th>\n",
       "    </tr>\n",
       "  </thead>\n",
       "  <tbody>\n",
       "    <tr>\n",
       "      <th>0</th>\n",
       "      <td>81145628</td>\n",
       "      <td>Movie</td>\n",
       "      <td>Norm of the North: King Sized Adventure</td>\n",
       "      <td>Richard Finn, Tim Maltby</td>\n",
       "      <td>Alan Marriott, Andrew Toth, Brian Dobson, Cole...</td>\n",
       "      <td>United States, India, South Korea, China</td>\n",
       "      <td>September 9, 2019</td>\n",
       "      <td>2019</td>\n",
       "      <td>TV-PG</td>\n",
       "      <td>90 min</td>\n",
       "      <td>Children &amp; Family Movies, Comedies</td>\n",
       "      <td>Before planning an awesome wedding for his gra...</td>\n",
       "    </tr>\n",
       "    <tr>\n",
       "      <th>1</th>\n",
       "      <td>80117401</td>\n",
       "      <td>Movie</td>\n",
       "      <td>Jandino: Whatever it Takes</td>\n",
       "      <td>NaN</td>\n",
       "      <td>Jandino Asporaat</td>\n",
       "      <td>United Kingdom</td>\n",
       "      <td>September 9, 2016</td>\n",
       "      <td>2016</td>\n",
       "      <td>TV-MA</td>\n",
       "      <td>94 min</td>\n",
       "      <td>Stand-Up Comedy</td>\n",
       "      <td>Jandino Asporaat riffs on the challenges of ra...</td>\n",
       "    </tr>\n",
       "    <tr>\n",
       "      <th>2</th>\n",
       "      <td>70234439</td>\n",
       "      <td>TV Show</td>\n",
       "      <td>Transformers Prime</td>\n",
       "      <td>NaN</td>\n",
       "      <td>Peter Cullen, Sumalee Montano, Frank Welker, J...</td>\n",
       "      <td>United States</td>\n",
       "      <td>September 8, 2018</td>\n",
       "      <td>2013</td>\n",
       "      <td>TV-Y7-FV</td>\n",
       "      <td>1 Season</td>\n",
       "      <td>Kids' TV</td>\n",
       "      <td>With the help of three human allies, the Autob...</td>\n",
       "    </tr>\n",
       "    <tr>\n",
       "      <th>3</th>\n",
       "      <td>80058654</td>\n",
       "      <td>TV Show</td>\n",
       "      <td>Transformers: Robots in Disguise</td>\n",
       "      <td>NaN</td>\n",
       "      <td>Will Friedle, Darren Criss, Constance Zimmer, ...</td>\n",
       "      <td>United States</td>\n",
       "      <td>September 8, 2018</td>\n",
       "      <td>2016</td>\n",
       "      <td>TV-Y7</td>\n",
       "      <td>1 Season</td>\n",
       "      <td>Kids' TV</td>\n",
       "      <td>When a prison ship crash unleashes hundreds of...</td>\n",
       "    </tr>\n",
       "    <tr>\n",
       "      <th>4</th>\n",
       "      <td>80125979</td>\n",
       "      <td>Movie</td>\n",
       "      <td>#realityhigh</td>\n",
       "      <td>Fernando Lebrija</td>\n",
       "      <td>Nesta Cooper, Kate Walsh, John Michael Higgins...</td>\n",
       "      <td>United States</td>\n",
       "      <td>September 8, 2017</td>\n",
       "      <td>2017</td>\n",
       "      <td>TV-14</td>\n",
       "      <td>99 min</td>\n",
       "      <td>Comedies</td>\n",
       "      <td>When nerdy high schooler Dani finally attracts...</td>\n",
       "    </tr>\n",
       "  </tbody>\n",
       "</table>\n",
       "</div>"
      ],
      "text/plain": [
       "    show_id     type                                    title  \\\n",
       "0  81145628    Movie  Norm of the North: King Sized Adventure   \n",
       "1  80117401    Movie               Jandino: Whatever it Takes   \n",
       "2  70234439  TV Show                       Transformers Prime   \n",
       "3  80058654  TV Show         Transformers: Robots in Disguise   \n",
       "4  80125979    Movie                             #realityhigh   \n",
       "\n",
       "                   director  \\\n",
       "0  Richard Finn, Tim Maltby   \n",
       "1                       NaN   \n",
       "2                       NaN   \n",
       "3                       NaN   \n",
       "4          Fernando Lebrija   \n",
       "\n",
       "                                                cast  \\\n",
       "0  Alan Marriott, Andrew Toth, Brian Dobson, Cole...   \n",
       "1                                   Jandino Asporaat   \n",
       "2  Peter Cullen, Sumalee Montano, Frank Welker, J...   \n",
       "3  Will Friedle, Darren Criss, Constance Zimmer, ...   \n",
       "4  Nesta Cooper, Kate Walsh, John Michael Higgins...   \n",
       "\n",
       "                                    country         date_added  release_year  \\\n",
       "0  United States, India, South Korea, China  September 9, 2019          2019   \n",
       "1                            United Kingdom  September 9, 2016          2016   \n",
       "2                             United States  September 8, 2018          2013   \n",
       "3                             United States  September 8, 2018          2016   \n",
       "4                             United States  September 8, 2017          2017   \n",
       "\n",
       "     rating  duration                           listed_in  \\\n",
       "0     TV-PG    90 min  Children & Family Movies, Comedies   \n",
       "1     TV-MA    94 min                     Stand-Up Comedy   \n",
       "2  TV-Y7-FV  1 Season                            Kids' TV   \n",
       "3     TV-Y7  1 Season                            Kids' TV   \n",
       "4     TV-14    99 min                            Comedies   \n",
       "\n",
       "                                         description  \n",
       "0  Before planning an awesome wedding for his gra...  \n",
       "1  Jandino Asporaat riffs on the challenges of ra...  \n",
       "2  With the help of three human allies, the Autob...  \n",
       "3  When a prison ship crash unleashes hundreds of...  \n",
       "4  When nerdy high schooler Dani finally attracts...  "
      ]
     },
     "execution_count": 5,
     "metadata": {},
     "output_type": "execute_result"
    }
   ],
   "source": [
    "netflix = pd.read_csv(netflix_titles)\n",
    "netflix.head()"
   ]
  },
  {
   "cell_type": "markdown",
   "metadata": {},
   "source": [
    "#### Assumptions/Hypothesis"
   ]
  },
  {
   "cell_type": "markdown",
   "metadata": {},
   "source": [
    "Talk about this section"
   ]
  },
  {
   "cell_type": "code",
   "execution_count": 4,
   "metadata": {},
   "outputs": [],
   "source": [
    "#Text and code"
   ]
  },
  {
   "cell_type": "markdown",
   "metadata": {},
   "source": [
    "#### Question 1: Netflix's Content Strategy"
   ]
  },
  {
   "cell_type": "markdown",
   "metadata": {},
   "source": [
    "Talk about this section"
   ]
  },
  {
   "cell_type": "code",
   "execution_count": 6,
   "metadata": {},
   "outputs": [],
   "source": [
    "#Process of dropping null values from the dataset\n",
    "netflix = netflix.dropna(subset=['date_added'])"
   ]
  },
  {
   "cell_type": "markdown",
   "metadata": {},
   "source": [
    "##### Part (a): Focus on Genre"
   ]
  },
  {
   "cell_type": "markdown",
   "metadata": {},
   "source": [
    "Talk about this section"
   ]
  },
  {
   "cell_type": "code",
   "execution_count": 7,
   "metadata": {},
   "outputs": [],
   "source": [
    "#Text and code\n",
    "def get_add_month(date):\n",
    "    '''\n",
    "    Extracts the year from a date (m d, y) and returns it as an int\n",
    "    '''\n",
    "    months = ['January', 'February', 'March', 'April', 'May', 'June', \n",
    "          'July', 'August', 'September', 'October', 'November', 'December']\n",
    "    if isinstance(date, str): month, *_ = date.split()\n",
    "    return months.index(month) + 1\n",
    "\n",
    "#Isolating the month\n",
    "netflix['add_month'] = netflix['date_added'].apply(get_add_month)\n",
    "\n",
    "#Cleaning\n",
    "netflix['listed_in'] = netflix['listed_in'].apply(lambda g: g.strip())\n",
    "\n",
    "#Split \n",
    "netflix_genres = pd.DataFrame(netflix.listed_in.str.split(',').tolist(),\n",
    "                              index=netflix.show_id).stack()\n",
    "\n",
    "#Merge\n",
    "yes = netflix[['show_id', 'add_month']]\n",
    "yeah = pd.merge(netflix_genres.rename('genre'), yes, on='show_id')"
   ]
  },
  {
   "cell_type": "code",
   "execution_count": 9,
   "metadata": {},
   "outputs": [
    {
     "data": {
      "text/plain": [
       "<matplotlib.legend.Legend at 0x1217ead90>"
      ]
     },
     "execution_count": 9,
     "metadata": {},
     "output_type": "execute_result"
    },
    {
     "data": {
      "image/png": "[encoded data removed]",
      "text/plain": [
       "<Figure size 432x288 with 1 Axes>"
      ]
     },
     "metadata": {
      "needs_background": "light"
     },
     "output_type": "display_data"
    }
   ],
   "source": [
    "def get_genre_yvalues(genres):\n",
    "    '''\n",
    "    Returns a list of y-values used for the bar chart based on the\n",
    "    given column\n",
    "    '''\n",
    "    freqDict = {i: 0 for i in range(1, 13)}\n",
    "    #Get the list of the first digits from the dataframe\n",
    "    for genre in genres:\n",
    "        genre_data = yeah[yeah['genre'] == genre]\n",
    "        cnts = genre_data['add_month'].tolist()\n",
    "        #Count how many times each digit appears and store in the list\n",
    "        for cnt in cnts: \n",
    "            if cnt in freqDict: freqDict[cnt] += 1\n",
    "        cnt_list = [freqDict[x] for x in freqDict]\n",
    "    return cnt_list\n",
    "\n",
    "xvalues = np.arange(1, 13)\n",
    "genres_dict = {'scary': ['Horror Movies', 'TV Horror', 'Thrillers', \n",
    "                            'TV Mysteries', 'TV Thrillers'],\n",
    "               'action': ['Action & Adventure', 'TV Action & Adventure'],\n",
    "               'comedy': ['Stand-Up Comedy', 'TV Stand-Up Comedy', \n",
    "                            'TV Comedies','Stand-Up Comedy & Talk Shows'],\n",
    "               'doc': ['Documentaries', 'Docuseries'],\n",
    "               'drama': ['Dramas', 'TV Dramas', 'Romantic Movies', \n",
    "                         'Romantic TV Shows', 'Crime TV Shows'],\n",
    "               'intl': ['British TV Shows', 'International Movies', \n",
    "                      'International TV Shows', 'Spanish-Language TV Shows'],\n",
    "               'classic': ['Classic & Cult TV', 'Classic Movies', \n",
    "                           'Cult Movies', 'Independent Movies']}\n",
    "\n",
    "for genre in genres_dict:\n",
    "    yvalues = get_genre_yvalues(genres_dict[genre])\n",
    "    plt.plot(xvalues, yvalues)\n",
    "    \n",
    "plt.xlabel('Month (1-12)')\n",
    "plt.ylabel('Number of Titles Added')\n",
    "plt.suptitle('Month of Addition to Netflix across Genres')\n",
    "plt.legend(['scary', 'comedy', 'action', 'doc', 'drama/rom.', 'intl.', 'classic'])"
   ]
  },
  {
   "cell_type": "markdown",
   "metadata": {},
   "source": [
    "##### Part (b): Focus on New Content"
   ]
  },
  {
   "cell_type": "code",
   "execution_count": 11,
   "metadata": {},
   "outputs": [
    {
     "data": {
      "text/plain": [
       "Text(0.5, 0.98, 'Rate of Same-Year Addition of Titles')"
      ]
     },
     "execution_count": 11,
     "metadata": {},
     "output_type": "execute_result"
    },
    {
     "data": {
      "image/png": "[encoded data removed]",
      "text/plain": [
       "<Figure size 432x288 with 1 Axes>"
      ]
     },
     "metadata": {
      "needs_background": "light"
     },
     "output_type": "display_data"
    }
   ],
   "source": [
    "#Text and code\n",
    "def get_add_year(date):\n",
    "    '''\n",
    "    Extracts the year from a date (m d, y) and returns it as an int\n",
    "    '''\n",
    "    if isinstance(date, str):\n",
    "        _, year = date.split(', ')\n",
    "    elif isinstance(date, float): year = 0\n",
    "    return int(year)\n",
    "\n",
    "#Data cleaning\n",
    "netflix['add_year'] = netflix['date_added'].apply(get_add_year)\n",
    "netflix['add_diff'] = netflix['add_year'] - netflix['release_year']\n",
    "\n",
    "same_year = netflix[netflix['add_diff'] == 0]\n",
    "originals = same_year[same_year['add_year'] >= 2013]\n",
    "\n",
    "def get_years_yvalues(column):\n",
    "    '''\n",
    "    Returns a list of y-values used for the bar chart based on the\n",
    "    given column\n",
    "    '''\n",
    "    freqDict = {i: 0 for i in range(2013, 2020)}\n",
    "    #Get the list of the first digits from the dataframe\n",
    "    cnts = originals[column].tolist()\n",
    "    for cnt in cnts: \n",
    "        if cnt in freqDict: freqDict[cnt] += 1\n",
    "    cnt_list = [freqDict[x] for x in freqDict]\n",
    "    return cnt_list\n",
    "\n",
    "xvalues = np.arange(2013, 2020)\n",
    "years_yvalues = get_years_yvalues('add_year')\n",
    "plt.plot(xvalues, years_yvalues)\n",
    "plt.xlabel('Year')\n",
    "plt.ylabel('Number of Titles Added')\n",
    "plt.suptitle('Rate of Same-Year Addition of Titles')"
   ]
  },
  {
   "cell_type": "markdown",
   "metadata": {},
   "source": [
    "#### Question 2: Netflix's Subscriber Growth Strategy"
   ]
  },
  {
   "cell_type": "code",
   "execution_count": 13,
   "metadata": {},
   "outputs": [],
   "source": [
    "#Text and code\n",
    "netflix = pd.read_csv(netflix_titles)\n",
    "\n",
    "# dropping NA values\n",
    "netflix = netflix.dropna()"
   ]
  },
  {
   "cell_type": "markdown",
   "metadata": {},
   "source": [
    "##### Part (a): Focus on international collaborators"
   ]
  },
  {
   "cell_type": "code",
   "execution_count": 14,
   "metadata": {},
   "outputs": [
    {
     "data": {
      "text/html": [
       "<div>\n",
       "<style scoped>\n",
       "    .dataframe tbody tr th:only-of-type {\n",
       "        vertical-align: middle;\n",
       "    }\n",
       "\n",
       "    .dataframe tbody tr th {\n",
       "        vertical-align: top;\n",
       "    }\n",
       "\n",
       "    .dataframe thead th {\n",
       "        text-align: right;\n",
       "    }\n",
       "</style>\n",
       "<table border=\"1\" class=\"dataframe\">\n",
       "  <thead>\n",
       "    <tr style=\"text-align: right;\">\n",
       "      <th></th>\n",
       "      <th>show_id</th>\n",
       "      <th>Country</th>\n",
       "    </tr>\n",
       "  </thead>\n",
       "  <tbody>\n",
       "    <tr>\n",
       "      <th>0</th>\n",
       "      <td>81145628</td>\n",
       "      <td>United States</td>\n",
       "    </tr>\n",
       "    <tr>\n",
       "      <th>1</th>\n",
       "      <td>81145628</td>\n",
       "      <td>India</td>\n",
       "    </tr>\n",
       "    <tr>\n",
       "      <th>2</th>\n",
       "      <td>81145628</td>\n",
       "      <td>South Korea</td>\n",
       "    </tr>\n",
       "    <tr>\n",
       "      <th>3</th>\n",
       "      <td>81145628</td>\n",
       "      <td>China</td>\n",
       "    </tr>\n",
       "    <tr>\n",
       "      <th>4</th>\n",
       "      <td>80125979</td>\n",
       "      <td>United States</td>\n",
       "    </tr>\n",
       "    <tr>\n",
       "      <th>...</th>\n",
       "      <td>...</td>\n",
       "      <td>...</td>\n",
       "    </tr>\n",
       "    <tr>\n",
       "      <th>4793</th>\n",
       "      <td>80164216</td>\n",
       "      <td>Japan</td>\n",
       "    </tr>\n",
       "    <tr>\n",
       "      <th>4794</th>\n",
       "      <td>80115328</td>\n",
       "      <td>India</td>\n",
       "    </tr>\n",
       "    <tr>\n",
       "      <th>4795</th>\n",
       "      <td>80115328</td>\n",
       "      <td>United States</td>\n",
       "    </tr>\n",
       "    <tr>\n",
       "      <th>4796</th>\n",
       "      <td>80176842</td>\n",
       "      <td>South Korea</td>\n",
       "    </tr>\n",
       "    <tr>\n",
       "      <th>4797</th>\n",
       "      <td>80126599</td>\n",
       "      <td>Turkey</td>\n",
       "    </tr>\n",
       "  </tbody>\n",
       "</table>\n",
       "<p>4798 rows × 2 columns</p>\n",
       "</div>"
      ],
      "text/plain": [
       "       show_id         Country\n",
       "0     81145628   United States\n",
       "1     81145628           India\n",
       "2     81145628     South Korea\n",
       "3     81145628           China\n",
       "4     80125979   United States\n",
       "...        ...             ...\n",
       "4793  80164216           Japan\n",
       "4794  80115328           India\n",
       "4795  80115328   United States\n",
       "4796  80176842     South Korea\n",
       "4797  80126599          Turkey\n",
       "\n",
       "[4798 rows x 2 columns]"
      ]
     },
     "execution_count": 14,
     "metadata": {},
     "output_type": "execute_result"
    }
   ],
   "source": [
    "# code reference for splitting a column into multiple rows:\n",
    "# https://medium.com/@sureshssarda/pandas-splitting-exploding-a-column-into-multiple-rows-b1b1d59ea12e\n",
    "\n",
    "# splitting the country column and creating a separate data frame\n",
    "netflix_countries = pd.DataFrame(netflix.country.str.split(',').tolist(), index = netflix.show_id).stack()\n",
    "\n",
    "netflix_countries = netflix_countries.reset_index([0, 'show_id'])\n",
    "\n",
    "netflix_countries.columns = ['show_id', 'Country']\n",
    "\n",
    "netflix_countries"
   ]
  },
  {
   "cell_type": "code",
   "execution_count": 15,
   "metadata": {},
   "outputs": [
    {
     "data": {
      "text/html": [
       "<div>\n",
       "<style scoped>\n",
       "    .dataframe tbody tr th:only-of-type {\n",
       "        vertical-align: middle;\n",
       "    }\n",
       "\n",
       "    .dataframe tbody tr th {\n",
       "        vertical-align: top;\n",
       "    }\n",
       "\n",
       "    .dataframe thead th {\n",
       "        text-align: right;\n",
       "    }\n",
       "</style>\n",
       "<table border=\"1\" class=\"dataframe\">\n",
       "  <thead>\n",
       "    <tr style=\"text-align: right;\">\n",
       "      <th></th>\n",
       "      <th>show_id</th>\n",
       "      <th>type</th>\n",
       "      <th>title</th>\n",
       "      <th>director</th>\n",
       "      <th>cast</th>\n",
       "      <th>country</th>\n",
       "      <th>date_added</th>\n",
       "      <th>release_year</th>\n",
       "      <th>rating</th>\n",
       "      <th>duration</th>\n",
       "      <th>listed_in</th>\n",
       "      <th>description</th>\n",
       "      <th>month_added</th>\n",
       "      <th>day_added</th>\n",
       "      <th>year_added</th>\n",
       "    </tr>\n",
       "  </thead>\n",
       "  <tbody>\n",
       "    <tr>\n",
       "      <th>0</th>\n",
       "      <td>81145628</td>\n",
       "      <td>Movie</td>\n",
       "      <td>Norm of the North: King Sized Adventure</td>\n",
       "      <td>Richard Finn, Tim Maltby</td>\n",
       "      <td>Alan Marriott, Andrew Toth, Brian Dobson, Cole...</td>\n",
       "      <td>United States, India, South Korea, China</td>\n",
       "      <td>September 9, 2019</td>\n",
       "      <td>2019</td>\n",
       "      <td>TV-PG</td>\n",
       "      <td>90 min</td>\n",
       "      <td>Children &amp; Family Movies, Comedies</td>\n",
       "      <td>Before planning an awesome wedding for his gra...</td>\n",
       "      <td>September</td>\n",
       "      <td>9</td>\n",
       "      <td>2019</td>\n",
       "    </tr>\n",
       "    <tr>\n",
       "      <th>4</th>\n",
       "      <td>80125979</td>\n",
       "      <td>Movie</td>\n",
       "      <td>#realityhigh</td>\n",
       "      <td>Fernando Lebrija</td>\n",
       "      <td>Nesta Cooper, Kate Walsh, John Michael Higgins...</td>\n",
       "      <td>United States</td>\n",
       "      <td>September 8, 2017</td>\n",
       "      <td>2017</td>\n",
       "      <td>TV-14</td>\n",
       "      <td>99 min</td>\n",
       "      <td>Comedies</td>\n",
       "      <td>When nerdy high schooler Dani finally attracts...</td>\n",
       "      <td>September</td>\n",
       "      <td>8</td>\n",
       "      <td>2017</td>\n",
       "    </tr>\n",
       "    <tr>\n",
       "      <th>6</th>\n",
       "      <td>70304989</td>\n",
       "      <td>Movie</td>\n",
       "      <td>Automata</td>\n",
       "      <td>Gabe Ibáñez</td>\n",
       "      <td>Antonio Banderas, Dylan McDermott, Melanie Gri...</td>\n",
       "      <td>Bulgaria, United States, Spain, Canada</td>\n",
       "      <td>September 8, 2017</td>\n",
       "      <td>2014</td>\n",
       "      <td>R</td>\n",
       "      <td>110 min</td>\n",
       "      <td>International Movies, Sci-Fi &amp; Fantasy, Thrillers</td>\n",
       "      <td>In a dystopian future, an insurance adjuster f...</td>\n",
       "      <td>September</td>\n",
       "      <td>8</td>\n",
       "      <td>2017</td>\n",
       "    </tr>\n",
       "    <tr>\n",
       "      <th>7</th>\n",
       "      <td>80164077</td>\n",
       "      <td>Movie</td>\n",
       "      <td>Fabrizio Copano: Solo pienso en mi</td>\n",
       "      <td>Rodrigo Toro, Francisco Schultz</td>\n",
       "      <td>Fabrizio Copano</td>\n",
       "      <td>Chile</td>\n",
       "      <td>September 8, 2017</td>\n",
       "      <td>2017</td>\n",
       "      <td>TV-MA</td>\n",
       "      <td>60 min</td>\n",
       "      <td>Stand-Up Comedy</td>\n",
       "      <td>Fabrizio Copano takes audience participation t...</td>\n",
       "      <td>September</td>\n",
       "      <td>8</td>\n",
       "      <td>2017</td>\n",
       "    </tr>\n",
       "    <tr>\n",
       "      <th>9</th>\n",
       "      <td>70304990</td>\n",
       "      <td>Movie</td>\n",
       "      <td>Good People</td>\n",
       "      <td>Henrik Ruben Genz</td>\n",
       "      <td>James Franco, Kate Hudson, Tom Wilkinson, Omar...</td>\n",
       "      <td>United States, United Kingdom, Denmark, Sweden</td>\n",
       "      <td>September 8, 2017</td>\n",
       "      <td>2014</td>\n",
       "      <td>R</td>\n",
       "      <td>90 min</td>\n",
       "      <td>Action &amp; Adventure, Thrillers</td>\n",
       "      <td>A struggling couple can't believe their luck w...</td>\n",
       "      <td>September</td>\n",
       "      <td>8</td>\n",
       "      <td>2017</td>\n",
       "    </tr>\n",
       "  </tbody>\n",
       "</table>\n",
       "</div>"
      ],
      "text/plain": [
       "    show_id   type                                    title  \\\n",
       "0  81145628  Movie  Norm of the North: King Sized Adventure   \n",
       "4  80125979  Movie                             #realityhigh   \n",
       "6  70304989  Movie                                 Automata   \n",
       "7  80164077  Movie       Fabrizio Copano: Solo pienso en mi   \n",
       "9  70304990  Movie                              Good People   \n",
       "\n",
       "                          director  \\\n",
       "0         Richard Finn, Tim Maltby   \n",
       "4                 Fernando Lebrija   \n",
       "6                      Gabe Ibáñez   \n",
       "7  Rodrigo Toro, Francisco Schultz   \n",
       "9                Henrik Ruben Genz   \n",
       "\n",
       "                                                cast  \\\n",
       "0  Alan Marriott, Andrew Toth, Brian Dobson, Cole...   \n",
       "4  Nesta Cooper, Kate Walsh, John Michael Higgins...   \n",
       "6  Antonio Banderas, Dylan McDermott, Melanie Gri...   \n",
       "7                                    Fabrizio Copano   \n",
       "9  James Franco, Kate Hudson, Tom Wilkinson, Omar...   \n",
       "\n",
       "                                          country         date_added  \\\n",
       "0        United States, India, South Korea, China  September 9, 2019   \n",
       "4                                   United States  September 8, 2017   \n",
       "6          Bulgaria, United States, Spain, Canada  September 8, 2017   \n",
       "7                                           Chile  September 8, 2017   \n",
       "9  United States, United Kingdom, Denmark, Sweden  September 8, 2017   \n",
       "\n",
       "   release_year rating duration  \\\n",
       "0          2019  TV-PG   90 min   \n",
       "4          2017  TV-14   99 min   \n",
       "6          2014      R  110 min   \n",
       "7          2017  TV-MA   60 min   \n",
       "9          2014      R   90 min   \n",
       "\n",
       "                                           listed_in  \\\n",
       "0                 Children & Family Movies, Comedies   \n",
       "4                                           Comedies   \n",
       "6  International Movies, Sci-Fi & Fantasy, Thrillers   \n",
       "7                                    Stand-Up Comedy   \n",
       "9                      Action & Adventure, Thrillers   \n",
       "\n",
       "                                         description month_added  day_added  \\\n",
       "0  Before planning an awesome wedding for his gra...   September          9   \n",
       "4  When nerdy high schooler Dani finally attracts...   September          8   \n",
       "6  In a dystopian future, an insurance adjuster f...   September          8   \n",
       "7  Fabrizio Copano takes audience participation t...   September          8   \n",
       "9  A struggling couple can't believe their luck w...   September          8   \n",
       "\n",
       "   year_added  \n",
       "0        2019  \n",
       "4        2017  \n",
       "6        2017  \n",
       "7        2017  \n",
       "9        2017  "
      ]
     },
     "execution_count": 15,
     "metadata": {},
     "output_type": "execute_result"
    }
   ],
   "source": [
    "# stripping out whitespace in the date_added column\n",
    "date_added = [d.strip() for d in netflix['date_added']]\n",
    "\n",
    "netflix['date_added'] = date_added\n",
    "\n",
    "month_added = [d.split(' ')[0] for d in netflix['date_added']]\n",
    "\n",
    "netflix['month_added'] = month_added\n",
    "\n",
    "month_added = [d.split(' ')[0] for d in netflix['date_added']]\n",
    "\n",
    "day_added = [int(d.split(',')[0].split(' ')[1]) for d in netflix['date_added']]\n",
    "\n",
    "netflix['day_added'] = day_added\n",
    "\n",
    "year_added = [int(d.split(',')[1].strip()) for d in netflix['date_added']]\n",
    "\n",
    "netflix['year_added'] = year_added\n",
    "\n",
    "netflix.head()"
   ]
  },
  {
   "cell_type": "code",
   "execution_count": 16,
   "metadata": {},
   "outputs": [],
   "source": [
    "# filtering for US-only projects\n",
    "netflix_us = netflix[netflix['country'] == 'United States']\n",
    "us_years = [y for y in netflix_us.year_added]\n",
    "\n",
    "# filtering for international projects\n",
    "netflix_intl = netflix[netflix['country'] != 'United States']\n",
    "intl_years = [y for y in netflix_intl.year_added]"
   ]
  },
  {
   "cell_type": "code",
   "execution_count": 17,
   "metadata": {},
   "outputs": [],
   "source": [
    "from collections import Counter\n",
    "y_counts_us = Counter(us_years)\n",
    "y_counts_intl = Counter(intl_years)\n",
    "\n",
    "y_us_dict = {k: y_counts_us[k] for k in sorted(y_counts_us.keys())}\n",
    "y_intl_dict = {k: y_counts_intl[k] for k in sorted(y_counts_intl.keys())}\n",
    "\n",
    "# use [:-1] to remove 2020 data\n",
    "us_x = [k for k in y_us_dict][:-1]\n",
    "us_y = [y_us_dict[k] for k in y_us_dict][:-1]\n",
    "intl_x = [k for k in y_intl_dict][:-1]\n",
    "intl_y = [y_intl_dict[k] for k in y_intl_dict][:-1]"
   ]
  },
  {
   "cell_type": "code",
   "execution_count": 18,
   "metadata": {},
   "outputs": [
    {
     "data": {
      "image/png": "[encoded data removed]",
      "text/plain": [
       "<Figure size 432x288 with 1 Axes>"
      ]
     },
     "metadata": {
      "needs_background": "light"
     },
     "output_type": "display_data"
    }
   ],
   "source": [
    "fig = plt.figure()\n",
    "ax = fig.gca()\n",
    "plt.xticks(np.arange(min(us_x), max(us_x)+1, 1.0))\n",
    "ax.plot(us_x, us_y, color= 'blue')\n",
    "ax.plot(intl_x, intl_y, color= 'red')\n",
    "plt.xlabel('Year')\n",
    "plt.ylabel('Number of projects')\n",
    "plt.title(\"Comparison of US vs international projects\")\n",
    "ax.legend(['US only','International'])\n",
    "plt.savefig('intl_projects.png')"
   ]
  },
  {
   "cell_type": "markdown",
   "metadata": {},
   "source": [
    "#### **We can either put findings after each section or in the findings section, whichever seems better **"
   ]
  },
  {
   "cell_type": "markdown",
   "metadata": {},
   "source": [
    "##### Part (b): Focus on market expansion"
   ]
  },
  {
   "cell_type": "code",
   "execution_count": 12,
   "metadata": {},
   "outputs": [],
   "source": [
    "# data inputted to Tableau\n",
    "# netflix_countries.to_csv('countries.csv')"
   ]
  },
  {
   "cell_type": "markdown",
   "metadata": {},
   "source": [
    "#### Outcomes and Key Findings"
   ]
  },
  {
   "cell_type": "markdown",
   "metadata": {},
   "source": [
    "Talk about this section"
   ]
  },
  {
   "cell_type": "code",
   "execution_count": 7,
   "metadata": {},
   "outputs": [],
   "source": [
    "#Text and code"
   ]
  }
 ],
 "metadata": {
  "kernelspec": {
   "display_name": "Python 3",
   "language": "python",
   "name": "python3"
  },
  "language_info": {
   "codemirror_mode": {
    "name": "ipython",
    "version": 3
   },
   "file_extension": ".py",
   "mimetype": "text/x-python",
   "name": "python",
   "nbconvert_exporter": "python",
   "pygments_lexer": "ipython3",
   "version": "3.7.6"
  }
 },
 "nbformat": 4,
 "nbformat_minor": 4
}
